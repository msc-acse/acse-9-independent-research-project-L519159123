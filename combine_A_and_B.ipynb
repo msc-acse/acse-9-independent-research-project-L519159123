{
 "cells": [
  {
   "cell_type": "code",
   "execution_count": 3,
   "metadata": {},
   "outputs": [
    {
     "name": "stdout",
     "output_type": "stream",
     "text": [
      "Requirement already satisfied: opencv-python in /home/fullwave3d/.local/lib/python3.6/site-packages (4.1.0.25)\r\n",
      "Requirement already satisfied: numpy>=1.11.3 in /home/fullwave3d/anaconda3/lib/python3.6/site-packages (from opencv-python) (1.16.4)\r\n"
     ]
    }
   ],
   "source": [
    "!pip install opencv-python --user"
   ]
  },
  {
   "cell_type": "code",
   "execution_count": 11,
   "metadata": {},
   "outputs": [
    {
     "name": "stdout",
     "output_type": "stream",
     "text": [
      "[fold_A] =  ./datasets/seismic/P_split_data_nocrop\n",
      "[fold_B] =  ./datasets/seismic/Z_split_data_nocrop\n",
      "[fold_AB] =  ./datasets/seismic/PZ_combination_nocrop\n",
      "[num_imgs] =  1000000\n",
      "[use_AB] =  False\n",
      "split = .ipynb_checkpoints, use 0/0 images\n",
      "split = .ipynb_checkpoints, number of images = 0\n",
      "split = test, use 408/408 images\n",
      "split = test, number of images = 408\n",
      "split = train, use 1928/1928 images\n",
      "split = train, number of images = 1928\n",
      "split = val, use 0/0 images\n",
      "split = val, number of images = 0\n"
     ]
    }
   ],
   "source": [
    "!python datasets/combine_A_and_B.py --fold_A ./datasets/seismic/P_split_data_nocrop --fold_B ./datasets/seismic/Z_split_data_nocrop --fold_AB ./datasets/seismic/PZ_combination_nocrop"
   ]
  },
  {
   "cell_type": "code",
   "execution_count": 6,
   "metadata": {},
   "outputs": [
    {
     "name": "stdout",
     "output_type": "stream",
     "text": [
      "[fold_A] =  ./datasets/seismic/P_split_in_lines_data_nocrop\r\n",
      "[fold_B] =  ./datasets/seismic/Z_split_in_lines_data_nocrop\r\n",
      "[fold_AB] =  ./datasets/seismic/PZ_combination_in_lines_nocrop\r\n",
      "[num_imgs] =  1000000\r\n",
      "[use_AB] =  False\r\n",
      "split = test, use 1168/1168 images\r\n",
      "split = test, number of images = 1168\r\n"
     ]
    }
   ],
   "source": [
    "!python datasets/combine_A_and_B.py --fold_A ./datasets/seismic/P_split_in_lines_data_nocrop --fold_B ./datasets/seismic/Z_split_in_lines_data_nocrop --fold_AB ./datasets/seismic/PZ_combination_in_lines_nocrop"
   ]
  },
  {
   "cell_type": "code",
   "execution_count": null,
   "metadata": {},
   "outputs": [],
   "source": []
  }
 ],
 "metadata": {
  "kernelspec": {
   "display_name": "Python 3",
   "language": "python",
   "name": "python3"
  },
  "language_info": {
   "codemirror_mode": {
    "name": "ipython",
    "version": 3
   },
   "file_extension": ".py",
   "mimetype": "text/x-python",
   "name": "python",
   "nbconvert_exporter": "python",
   "pygments_lexer": "ipython3",
   "version": "3.6.8"
  }
 },
 "nbformat": 4,
 "nbformat_minor": 2
}
